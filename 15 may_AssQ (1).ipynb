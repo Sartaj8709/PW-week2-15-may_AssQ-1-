{
  "metadata": {
    "language_info": {
      "codemirror_mode": {
        "name": "python",
        "version": 3
      },
      "file_extension": ".py",
      "mimetype": "text/x-python",
      "name": "python",
      "nbconvert_exporter": "python",
      "pygments_lexer": "ipython3",
      "version": "3.8"
    },
    "kernelspec": {
      "name": "python",
      "display_name": "Python (Pyodide)",
      "language": "python"
    }
  },
  "nbformat_minor": 4,
  "nbformat": 4,
  "cells": [
    {
      "cell_type": "code",
      "source": "\"\"\"Q1)) to comment code on python we can use # or ## as prefix  or \"\"\"your code \"\"\"\"\nthere are two types of comments first single line comment and second multiline comment \n\nQ2)) variables are containers in python which stores data. To declare and assign values to a variable firstly write the name of the variable\nthe write = and then write the data which you want to store for example x=5 or y=\"alpha\"\n\nQ3)) to convert the data type of one data type to another data type just do typecasting i.e write the data type in the suffix of the data \nwhich you want to typecast\"\"\"\n\n",
      "metadata": {
        "trusted": true
      },
      "execution_count": 1,
      "outputs": []
    },
    {
      "cell_type": "code",
      "source": "#Q5))\nmy_list=[1,2,3,4,5]",
      "metadata": {
        "trusted": true
      },
      "execution_count": 5,
      "outputs": []
    },
    {
      "cell_type": "code",
      "source": "my_list[1:3:]",
      "metadata": {
        "trusted": true
      },
      "execution_count": 7,
      "outputs": [
        {
          "execution_count": 7,
          "output_type": "execute_result",
          "data": {
            "text/plain": "[2, 3]"
          },
          "metadata": {}
        }
      ]
    },
    {
      "cell_type": "code",
      "source": "# Q6)) A number of the form a+ib is called complex no where a indicates the real part of the complex number and b indicates the imaginary\n# part of the complex number. To represent the complex number in python we use a+bj where a and b are real numbers",
      "metadata": {
        "trusted": true
      },
      "execution_count": 8,
      "outputs": []
    },
    {
      "cell_type": "code",
      "source": "#Q7))\nage=25",
      "metadata": {
        "trusted": true
      },
      "execution_count": 9,
      "outputs": []
    },
    {
      "cell_type": "code",
      "source": "#Q8))\nprice=9.99\n# price belongs to float data type ",
      "metadata": {
        "trusted": true
      },
      "execution_count": 12,
      "outputs": []
    },
    {
      "cell_type": "code",
      "source": "#Q9))\nname=\"sartajansari\"\n# to print the the name just write  the keyword name and execute ",
      "metadata": {
        "trusted": true
      },
      "execution_count": 13,
      "outputs": []
    },
    {
      "cell_type": "code",
      "source": "#Q10))\nx=\"Hello,World\"\nx[6::]",
      "metadata": {
        "trusted": true
      },
      "execution_count": 14,
      "outputs": [
        {
          "execution_count": 14,
          "output_type": "execute_result",
          "data": {
            "text/plain": "'World'"
          },
          "metadata": {}
        }
      ]
    },
    {
      "cell_type": "code",
      "source": "#Q11))\nis_student=True",
      "metadata": {
        "trusted": true
      },
      "execution_count": 16,
      "outputs": []
    },
    {
      "cell_type": "code",
      "source": "",
      "metadata": {},
      "execution_count": null,
      "outputs": []
    }
  ]
}